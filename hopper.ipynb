{
 "cells": [
  {
   "cell_type": "code",
   "execution_count": 1,
   "metadata": {},
   "outputs": [],
   "source": [
    "from tqdm import tqdm\n",
    "import numpy as np\n",
    "import torch\n",
    "import torch.nn as nn\n",
    "import torch.nn.functional as F\n",
    "from torch.distributions import Normal\n",
    "import gymnasium as gym\n",
    "import collections\n",
    "import random\n",
    "import matplotlib.pyplot as plt\n",
    "import SAC_class_setting\n",
    "from util import *\n",
    "import replay_buffer as rb"
   ]
  },
  {
   "cell_type": "code",
   "execution_count": 2,
   "metadata": {},
   "outputs": [
    {
     "name": "stderr",
     "output_type": "stream",
     "text": [
      "/home/nomushroom/anaconda3/envs/rl/lib/python3.9/site-packages/gymnasium/envs/registration.py:523: DeprecationWarning: \u001b[33mWARN: The environment Hopper-v2 is out of date. You should consider upgrading to version `v4`.\u001b[0m\n",
      "  logger.deprecation(\n",
      "/home/nomushroom/anaconda3/envs/rl/lib/python3.9/site-packages/gymnasium/envs/mujoco/mujoco_env.py:185: DeprecationWarning: \u001b[33mWARN: This version of the mujoco environments depends on the mujoco-py bindings, which are no longer maintained and may stop working. Please upgrade to the v4 versions of the environments (which depend on the mujoco python bindings instead), unless you are trying to precisely replicate previous works).\u001b[0m\n",
      "  logger.deprecation(\n"
     ]
    }
   ],
   "source": [
    "env_name = 'Hopper-v2'\n",
    "env = gym.make(env_name)"
   ]
  },
  {
   "attachments": {},
   "cell_type": "markdown",
   "metadata": {},
   "source": [
    "# SAC training"
   ]
  },
  {
   "cell_type": "code",
   "execution_count": 3,
   "metadata": {},
   "outputs": [
    {
     "name": "stderr",
     "output_type": "stream",
     "text": [
      "Iteration 0:   0%|          | 0/300 [00:00<?, ?it/s]/home/nomushroom/vsc/SAC_imitationlearning/SAC_class_setting.py:67: UserWarning: Creating a tensor from a list of numpy.ndarrays is extremely slow. Please consider converting the list to a single numpy.ndarray with numpy.array() before converting to a tensor. (Triggered internally at /opt/conda/conda-bld/pytorch_1686122008392/work/torch/csrc/utils/tensor_new.cpp:261.)\n",
      "  state = torch.tensor([state], dtype=torch.float).to(self.device)\n",
      "Iteration 0: 100%|██████████| 300/300 [02:11<00:00,  2.28it/s, episode=300, return=9.156]  \n"
     ]
    },
    {
     "name": "stdout",
     "output_type": "stream",
     "text": [
      "{'Actor loss': -60.18975067138672, 'Critic1 loss': 2.2838170528411865}\n"
     ]
    },
    {
     "name": "stderr",
     "output_type": "stream",
     "text": [
      "Iteration 1: 100%|██████████| 300/300 [03:15<00:00,  1.53it/s, episode=600, return=198.909]\n"
     ]
    },
    {
     "name": "stdout",
     "output_type": "stream",
     "text": [
      "{'Actor loss': -110.21936798095703, 'Critic1 loss': 7.27744197845459}\n"
     ]
    },
    {
     "name": "stderr",
     "output_type": "stream",
     "text": [
      "Iteration 2: 100%|██████████| 300/300 [04:57<00:00,  1.01it/s, episode=900, return=522.310]\n"
     ]
    },
    {
     "name": "stdout",
     "output_type": "stream",
     "text": [
      "{'Actor loss': -118.07003021240234, 'Critic1 loss': 5.546507835388184}\n"
     ]
    },
    {
     "name": "stderr",
     "output_type": "stream",
     "text": [
      "Iteration 3: 100%|██████████| 300/300 [08:19<00:00,  1.67s/it, episode=1200, return=1230.830]\n"
     ]
    },
    {
     "name": "stdout",
     "output_type": "stream",
     "text": [
      "{'Actor loss': -178.84207153320312, 'Critic1 loss': 4.341958522796631}\n"
     ]
    },
    {
     "name": "stderr",
     "output_type": "stream",
     "text": [
      "Iteration 4: 100%|██████████| 300/300 [12:06<00:00,  2.42s/it, episode=1500, return=1232.503]\n"
     ]
    },
    {
     "name": "stdout",
     "output_type": "stream",
     "text": [
      "{'Actor loss': -264.09295654296875, 'Critic1 loss': 2.0240235328674316}\n"
     ]
    },
    {
     "name": "stderr",
     "output_type": "stream",
     "text": [
      "Iteration 5: 100%|██████████| 300/300 [15:55<00:00,  3.19s/it, episode=1800, return=1846.676]\n"
     ]
    },
    {
     "name": "stdout",
     "output_type": "stream",
     "text": [
      "{'Actor loss': -287.2106018066406, 'Critic1 loss': 5.222204208374023}\n"
     ]
    },
    {
     "name": "stderr",
     "output_type": "stream",
     "text": [
      "Iteration 6: 100%|██████████| 300/300 [17:01<00:00,  3.40s/it, episode=2100, return=1261.034]\n"
     ]
    },
    {
     "name": "stdout",
     "output_type": "stream",
     "text": [
      "{'Actor loss': -294.4504089355469, 'Critic1 loss': 1.360812783241272}\n"
     ]
    },
    {
     "name": "stderr",
     "output_type": "stream",
     "text": [
      "Iteration 7: 100%|██████████| 300/300 [26:56<00:00,  5.39s/it, episode=2400, return=3457.079]\n"
     ]
    },
    {
     "name": "stdout",
     "output_type": "stream",
     "text": [
      "{'Actor loss': -325.6610107421875, 'Critic1 loss': 1.252790927886963}\n"
     ]
    },
    {
     "name": "stderr",
     "output_type": "stream",
     "text": [
      "Iteration 8: 100%|██████████| 300/300 [44:30<00:00,  8.90s/it, episode=2700, return=3048.057]\n"
     ]
    },
    {
     "name": "stdout",
     "output_type": "stream",
     "text": [
      "{'Actor loss': -328.2557067871094, 'Critic1 loss': 1.713492751121521}\n"
     ]
    },
    {
     "name": "stderr",
     "output_type": "stream",
     "text": [
      "Iteration 9: 100%|██████████| 300/300 [40:13<00:00,  8.05s/it, episode=3000, return=3509.730]"
     ]
    },
    {
     "name": "stdout",
     "output_type": "stream",
     "text": [
      "{'Actor loss': -289.150390625, 'Critic1 loss': 2.9459950923919678}\n"
     ]
    },
    {
     "name": "stderr",
     "output_type": "stream",
     "text": [
      "\n"
     ]
    }
   ],
   "source": [
    "actor_lr = 3e-4\n",
    "critric_lr = 3e-4\n",
    "alpha_lr = 3e-4\n",
    "num_episodes = 3000\n",
    "hidden_dim = 128\n",
    "gamma = 0.99\n",
    "tau = 0.005\n",
    "buffer_size = 100000\n",
    "minimal_size = 1000\n",
    "batch_size = 64\n",
    "hidden_layer_num = 1\n",
    "device = torch.device('cuda' if torch.cuda.is_available() else 'cpu')\n",
    "replay_buffer = 'PrioritizedReplayBuffer'\n",
    "\n",
    "per_agent = SAC_class_setting.SACContinuous(replay_buffer, batch_size, buffer_size, env, hidden_dim, hidden_layer_num, actor_lr, critric_lr, alpha_lr, tau, gamma, device,\n",
    "                                            scheduler_open=True, scheduler_size=100000, scheduler_gamma=0.9)\n",
    "\n",
    "per_return_list = train_off_policy_agent(env, per_agent, num_episodes, minimal_size, batch_size)"
   ]
  },
  {
   "cell_type": "code",
   "execution_count": 4,
   "metadata": {},
   "outputs": [
    {
     "name": "stderr",
     "output_type": "stream",
     "text": [
      "Iteration 0: 100%|██████████| 300/300 [02:26<00:00,  2.05it/s, episode=300, return=212.360]\n"
     ]
    },
    {
     "name": "stdout",
     "output_type": "stream",
     "text": [
      "{'Actor loss': -87.59842681884766, 'Critic1 loss': 6.100785255432129}\n"
     ]
    },
    {
     "name": "stderr",
     "output_type": "stream",
     "text": [
      "Iteration 1: 100%|██████████| 300/300 [05:25<00:00,  1.09s/it, episode=600, return=260.777]\n"
     ]
    },
    {
     "name": "stdout",
     "output_type": "stream",
     "text": [
      "{'Actor loss': -126.88859558105469, 'Critic1 loss': 35.0741081237793}\n"
     ]
    },
    {
     "name": "stderr",
     "output_type": "stream",
     "text": [
      "Iteration 2: 100%|██████████| 300/300 [07:02<00:00,  1.41s/it, episode=900, return=422.379]\n"
     ]
    },
    {
     "name": "stdout",
     "output_type": "stream",
     "text": [
      "{'Actor loss': -143.13613891601562, 'Critic1 loss': 5.606109619140625}\n"
     ]
    },
    {
     "name": "stderr",
     "output_type": "stream",
     "text": [
      "Iteration 3: 100%|██████████| 300/300 [11:21<00:00,  2.27s/it, episode=1200, return=736.362] \n"
     ]
    },
    {
     "name": "stdout",
     "output_type": "stream",
     "text": [
      "{'Actor loss': -198.64039611816406, 'Critic1 loss': 4.095148086547852}\n"
     ]
    },
    {
     "name": "stderr",
     "output_type": "stream",
     "text": [
      "Iteration 4: 100%|██████████| 300/300 [15:59<00:00,  3.20s/it, episode=1500, return=884.188] \n"
     ]
    },
    {
     "name": "stdout",
     "output_type": "stream",
     "text": [
      "{'Actor loss': -261.17291259765625, 'Critic1 loss': 2.198049306869507}\n"
     ]
    },
    {
     "name": "stderr",
     "output_type": "stream",
     "text": [
      "Iteration 5: 100%|██████████| 300/300 [28:30<00:00,  5.70s/it, episode=1800, return=2033.466]\n"
     ]
    },
    {
     "name": "stdout",
     "output_type": "stream",
     "text": [
      "{'Actor loss': -275.7850341796875, 'Critic1 loss': 7.782870292663574}\n"
     ]
    },
    {
     "name": "stderr",
     "output_type": "stream",
     "text": [
      "Iteration 6: 100%|██████████| 300/300 [21:48<00:00,  4.36s/it, episode=2100, return=1959.134]\n"
     ]
    },
    {
     "name": "stdout",
     "output_type": "stream",
     "text": [
      "{'Actor loss': -285.9741516113281, 'Critic1 loss': 1.5401798486709595}\n"
     ]
    },
    {
     "name": "stderr",
     "output_type": "stream",
     "text": [
      "Iteration 7: 100%|██████████| 300/300 [17:22<00:00,  3.48s/it, episode=2400, return=2535.211]\n"
     ]
    },
    {
     "name": "stdout",
     "output_type": "stream",
     "text": [
      "{'Actor loss': -283.76165771484375, 'Critic1 loss': 2.294753313064575}\n"
     ]
    },
    {
     "name": "stderr",
     "output_type": "stream",
     "text": [
      "Iteration 8: 100%|██████████| 300/300 [16:52<00:00,  3.38s/it, episode=2700, return=1277.653]\n"
     ]
    },
    {
     "name": "stdout",
     "output_type": "stream",
     "text": [
      "{'Actor loss': -294.8885803222656, 'Critic1 loss': 2.0256991386413574}\n"
     ]
    },
    {
     "name": "stderr",
     "output_type": "stream",
     "text": [
      "Iteration 9: 100%|██████████| 300/300 [17:34<00:00,  3.51s/it, episode=3000, return=2907.352]"
     ]
    },
    {
     "name": "stdout",
     "output_type": "stream",
     "text": [
      "{'Actor loss': -296.35906982421875, 'Critic1 loss': 1.0921077728271484}\n"
     ]
    },
    {
     "name": "stderr",
     "output_type": "stream",
     "text": [
      "\n"
     ]
    }
   ],
   "source": [
    "actor_lr = 3e-4\n",
    "critric_lr = 3e-4\n",
    "alpha_lr = 3e-4\n",
    "num_episodes = 3000\n",
    "hidden_dim = 128\n",
    "gamma = 0.99\n",
    "tau = 0.005\n",
    "buffer_size = 100000\n",
    "minimal_size = 1000\n",
    "batch_size = 64\n",
    "hidden_layer_num = 1\n",
    "device = torch.device('cuda' if torch.cuda.is_available() else 'cpu')\n",
    "replay_buffer = 'ReplayBuffer'\n",
    "\n",
    "agent = SAC_class_setting.SACContinuous(replay_buffer, batch_size, buffer_size, env, hidden_dim, hidden_layer_num, actor_lr, critric_lr, alpha_lr, tau, gamma, device,\n",
    "                                            scheduler_open=True, scheduler_size=100000, scheduler_gamma=0.9)\n",
    "\n",
    "return_list = train_off_policy_agent(env, agent, num_episodes, minimal_size, batch_size)"
   ]
  },
  {
   "cell_type": "code",
   "execution_count": 5,
   "metadata": {},
   "outputs": [
    {
     "data": {
      "image/png": "[encoded data removed]",
      "text/plain": [
       "<Figure size 640x480 with 1 Axes>"
      ]
     },
     "metadata": {},
     "output_type": "display_data"
    }
   ],
   "source": [
    "smooth_return_02 = smooth_figure(return_list, 79)\n",
    "per_smooth_return_02 = smooth_figure(per_return_list, 79)\n",
    "episodes_list = list(range(len(return_list)))\n",
    "plt.plot(episodes_list, smooth_return_02)\n",
    "plt.plot(episodes_list, per_smooth_return_02)\n",
    "plt.xlabel('Episodes')\n",
    "plt.ylabel('Returns')\n",
    "plt.title('SAC on {}'.format(env_name))\n",
    "plt.legend(['Uniform', 'PER'])\n",
    "plt.grid()\n",
    "plt.show()"
   ]
  },
  {
   "attachments": {},
   "cell_type": "markdown",
   "metadata": {},
   "source": [
    "# DARC"
   ]
  },
  {
   "cell_type": "code",
   "execution_count": 3,
   "metadata": {},
   "outputs": [],
   "source": [
    "from darc import DARC\n",
    "from broken_joint import BrokenJointEnv"
   ]
  },
  {
   "cell_type": "code",
   "execution_count": 4,
   "metadata": {},
   "outputs": [],
   "source": [
    "env_name = 'Hopper-v2'\n",
    "source_env = BrokenJointEnv(gym.make(env_name), [])\n",
    "target_env = BrokenJointEnv(gym.make(env_name), [1])\n",
    "\n",
    "running_mean = ZFilter((source_env.observation_space.shape[0],), clip=5)\n",
    "replay_buffer = 'ReplayBuffer'\n",
    "buffer_size = 100000\n",
    "batch_size = 64\n",
    "\n",
    "hidden_dim = 128\n",
    "hidden_layer_num = 1\n",
    "\n",
    "actor_lr, critic_lr, alpha_lr, clssifier_lr = 3e-4, 3e-4, 3e-4, 3e-4\n",
    "tau = 0.005\n",
    "gamma = 0.99\n",
    "decay_rate = 0.9\n",
    "device = torch.device('cuda' if torch.cuda.is_available() else 'cpu')\n"
   ]
  },
  {
   "cell_type": "code",
   "execution_count": 5,
   "metadata": {},
   "outputs": [],
   "source": [
    "model = DARC(running_mean, replay_buffer, buffer_size, batch_size, source_env, target_env, hidden_dim, hidden_layer_num, \n",
    "             actor_lr, critic_lr, alpha_lr, clssifier_lr, tau, gamma, decay_rate, device)"
   ]
  },
  {
   "cell_type": "code",
   "execution_count": 6,
   "metadata": {},
   "outputs": [
    {
     "name": "stdout",
     "output_type": "stream",
     "text": [
      "TARGET: index: 0, steps: 16, total_rewards: 11.876960887319704\n",
      "SOURCE: index: 0, steps: 29, total_rewards: 9.023764712000851\n",
      "TARGET: index: 1, steps: 33, total_rewards: 40.51151715943761\n",
      "SOURCE: index: 1, steps: 39, total_rewards: 17.95240856375692\n",
      "TARGET: index: 2, steps: 11, total_rewards: 6.060903663745781\n",
      "SOURCE: index: 2, steps: 18, total_rewards: 12.487744295328413\n",
      "TARGET: index: 3, steps: 24, total_rewards: 20.03837719312267\n",
      "SOURCE: index: 3, steps: 24, total_rewards: 14.999157484555948\n",
      "TARGET: index: 4, steps: 11, total_rewards: 8.843422937844437\n",
      "SOURCE: index: 4, steps: 13, total_rewards: 10.440874076951276\n",
      "TARGET: index: 5, steps: 45, total_rewards: 20.201413118138042\n",
      "SOURCE: index: 5, steps: 22, total_rewards: 19.346581828561504\n",
      "TARGET: index: 6, steps: 18, total_rewards: 18.67435067464892\n",
      "SOURCE: index: 6, steps: 36, total_rewards: 32.350583265395805\n",
      "TARGET: index: 7, steps: 12, total_rewards: 9.735558639616823\n",
      "SOURCE: index: 7, steps: 15, total_rewards: 9.470103612716962\n",
      "TARGET: index: 8, steps: 34, total_rewards: 32.127924319230104\n",
      "SOURCE: index: 8, steps: 34, total_rewards: 33.02665296579963\n",
      "TARGET: index: 9, steps: 68, total_rewards: 98.38711975271498\n",
      "SOURCE: index: 9, steps: 44, total_rewards: 57.69199421313895\n",
      "TARGET: index: 10, steps: 21, total_rewards: 27.025268850114056\n",
      "SOURCE: index: 10, steps: 11, total_rewards: 9.566461981398907\n",
      "TARGET: index: 11, steps: 113, total_rewards: 212.75224699596453\n",
      "SOURCE: index: 11, steps: 29, total_rewards: 11.520834816372318\n",
      "TARGET: index: 12, steps: 40, total_rewards: 42.61384758296043\n",
      "SOURCE: index: 12, steps: 31, total_rewards: 38.70581618715197\n",
      "TARGET: index: 13, steps: 30, total_rewards: 13.168253772632417\n",
      "SOURCE: index: 13, steps: 43, total_rewards: 33.37123544395141\n",
      "TARGET: index: 14, steps: 50, total_rewards: 31.619209196414857\n",
      "SOURCE: index: 14, steps: 30, total_rewards: 22.286853028538566\n",
      "TARGET: index: 15, steps: 51, total_rewards: 54.32476676992923\n",
      "SOURCE: index: 15, steps: 33, total_rewards: 34.353096581149465\n",
      "TARGET: index: 16, steps: 74, total_rewards: 116.37226284185516\n",
      "SOURCE: index: 16, steps: 12, total_rewards: 10.061994824725465\n",
      "TARGET: index: 17, steps: 27, total_rewards: 33.59890000768805\n",
      "SOURCE: index: 17, steps: 15, total_rewards: 13.060705571355289\n",
      "TARGET: index: 18, steps: 20, total_rewards: 19.926161706000133\n",
      "SOURCE: index: 18, steps: 10, total_rewards: 8.768376051150147\n",
      "TARGET: index: 19, steps: 23, total_rewards: 20.41870741234494\n",
      "SOURCE: index: 19, steps: 17, total_rewards: 12.72004773272356\n",
      "TARGET: index: 20, steps: 15, total_rewards: 13.356467055397527\n"
     ]
    },
    {
     "ename": "AttributeError",
     "evalue": "'DARC' object has no attribute 'replay_buffer'",
     "output_type": "error",
     "traceback": [
      "\u001b[0;31m---------------------------------------------------------------------------\u001b[0m",
      "\u001b[0;31mAttributeError\u001b[0m                            Traceback (most recent call last)",
      "Cell \u001b[0;32mIn[6], line 1\u001b[0m\n\u001b[0;32m----> 1\u001b[0m train_darc(model, \u001b[39m1000\u001b[39;49m, \u001b[39mFalse\u001b[39;49;00m)\n",
      "File \u001b[0;32m~/vsc/SAC_imitationlearning/util.py:91\u001b[0m, in \u001b[0;36mtrain_darc\u001b[0;34m(agent, num_games, deterministic)\u001b[0m\n\u001b[1;32m     88\u001b[0m \u001b[39mif\u001b[39;00m i \u001b[39m%\u001b[39m agent\u001b[39m.\u001b[39mn_games_til_train \u001b[39m==\u001b[39m \u001b[39m0\u001b[39m:\n\u001b[1;32m     89\u001b[0m     \u001b[39mfor\u001b[39;00m _ \u001b[39min\u001b[39;00m \u001b[39mrange\u001b[39m(source_step):\n\u001b[1;32m     90\u001b[0m         \u001b[39m#agent.total_train_steps += 1\u001b[39;00m\n\u001b[0;32m---> 91\u001b[0m         train_info \u001b[39m=\u001b[39m agent\u001b[39m.\u001b[39;49mupdate(i)\n\u001b[1;32m     92\u001b[0m         agent\u001b[39m.\u001b[39mwriter\u001b[39m.\u001b[39madd_train_step_info(train_info, i)\n\u001b[1;32m     93\u001b[0m     agent\u001b[39m.\u001b[39mwriter\u001b[39m.\u001b[39mwrite_train_step()\n",
      "File \u001b[0;32m~/vsc/SAC_imitationlearning/darc.py:101\u001b[0m, in \u001b[0;36mDARC.update\u001b[0;34m(self, game_count)\u001b[0m\n\u001b[1;32m     98\u001b[0m     \u001b[39mif\u001b[39;00m game_count \u001b[39m>\u001b[39m\u001b[39m=\u001b[39m \u001b[39m20\u001b[39m \u001b[39m*\u001b[39m \u001b[39mself\u001b[39m\u001b[39m.\u001b[39mwarmup_games:\n\u001b[1;32m     99\u001b[0m         s_rewards \u001b[39m=\u001b[39m s_rewards \u001b[39m+\u001b[39m \u001b[39mself\u001b[39m\u001b[39m.\u001b[39mdelta_r_scale \u001b[39m*\u001b[39m delta_r\u001b[39m.\u001b[39munsqueeze(\u001b[39m1\u001b[39m)\n\u001b[0;32m--> 101\u001b[0m train_info \u001b[39m=\u001b[39m \u001b[39msuper\u001b[39;49m(DARC, \u001b[39mself\u001b[39;49m)\u001b[39m.\u001b[39;49mupdate(\u001b[39mself\u001b[39;49m\u001b[39m.\u001b[39;49mbatch_size)\n\u001b[1;32m    104\u001b[0m s_sa_inputs \u001b[39m=\u001b[39m torch\u001b[39m.\u001b[39mcat([s_states, s_actions], \u001b[39m1\u001b[39m)\n\u001b[1;32m    105\u001b[0m s_sas_inputs \u001b[39m=\u001b[39m torch\u001b[39m.\u001b[39mcat([s_states, s_actions, s_next_states], \u001b[39m1\u001b[39m)\n",
      "File \u001b[0;32m~/vsc/SAC_imitationlearning/SAC_class_setting.py:98\u001b[0m, in \u001b[0;36mSACContinuous.update\u001b[0;34m(self, batch_size)\u001b[0m\n\u001b[1;32m     97\u001b[0m \u001b[39mdef\u001b[39;00m \u001b[39mupdate\u001b[39m(\u001b[39mself\u001b[39m, batch_size):\n\u001b[0;32m---> 98\u001b[0m     \u001b[39mif\u001b[39;00m \u001b[39misinstance\u001b[39m(\u001b[39mself\u001b[39;49m\u001b[39m.\u001b[39;49mreplay_buffer, rb\u001b[39m.\u001b[39mReplayBuffer):\n\u001b[1;32m     99\u001b[0m         batch \u001b[39m=\u001b[39m \u001b[39mself\u001b[39m\u001b[39m.\u001b[39mreplay_buffer\u001b[39m.\u001b[39msample(batch_size)\n\u001b[1;32m    100\u001b[0m         weight \u001b[39m=\u001b[39m torch\u001b[39m.\u001b[39mones([batch_size, \u001b[39m1\u001b[39m])\n",
      "\u001b[0;31mAttributeError\u001b[0m: 'DARC' object has no attribute 'replay_buffer'"
     ]
    }
   ],
   "source": [
    "train_darc(model, 1000, False)"
   ]
  },
  {
   "cell_type": "code",
   "execution_count": null,
   "metadata": {},
   "outputs": [],
   "source": []
  }
 ],
 "metadata": {
  "kernelspec": {
   "display_name": "rl",
   "language": "python",
   "name": "python3"
  },
  "language_info": {
   "codemirror_mode": {
    "name": "ipython",
    "version": 3
   },
   "file_extension": ".py",
   "mimetype": "text/x-python",
   "name": "python",
   "nbconvert_exporter": "python",
   "pygments_lexer": "ipython3",
   "version": "3.9.16"
  },
  "orig_nbformat": 4
 },
 "nbformat": 4,
 "nbformat_minor": 2
}
